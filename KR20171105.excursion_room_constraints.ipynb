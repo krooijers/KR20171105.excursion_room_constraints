{
 "cells": [
  {
   "cell_type": "markdown",
   "metadata": {},
   "source": [
    "Implementation of the problem outlined in <https://www.reddit.com/r/Python/comments/7awlm1/is_this_something_which_is_possible_in_python/>"
   ]
  },
  {
   "cell_type": "markdown",
   "metadata": {},
   "source": [
    "## Setup"
   ]
  },
  {
   "cell_type": "code",
   "execution_count": 1,
   "metadata": {},
   "outputs": [],
   "source": [
    "from z3 import Int, Solver, If, And, Sum"
   ]
  },
  {
   "cell_type": "markdown",
   "metadata": {},
   "source": [
    "## Example data"
   ]
  },
  {
   "cell_type": "code",
   "execution_count": 2,
   "metadata": {},
   "outputs": [],
   "source": [
    "## A very obvious toy example\n",
    "## 3 rooms, 7 (male) + 11 (female) participants\n",
    "## The obvious solution is to put all males together, and divide the females over the other two rooms\n",
    "\n",
    "roomsizes = [4, 7, 7]\n",
    "\n",
    "# data for each participant:\n",
    "# tuple of (gender, tuple of \"buddies\")\n",
    "participants = [\n",
    "    # males\n",
    "    (\"m\", (1, 2, 3)),\n",
    "    (\"m\", (0, 4, 5)),\n",
    "    (\"m\", (0, 4, 5)),\n",
    "    (\"m\", (1, 2, 4)),\n",
    "    (\"m\", (0, 1, 2)),\n",
    "    (\"m\", (0, 1, 2)),\n",
    "    (\"m\", (0, 1, 2)),\n",
    "    # females\n",
    "    (\"f\", (8, 9, 10)),\n",
    "    (\"f\", (7, 9, 10)),\n",
    "    (\"f\", (7, 8, 13)),\n",
    "    (\"f\", (7, 8, 9)),\n",
    "    (\"f\", (7, 8, 9)),\n",
    "    (\"f\", (7, 8, 9)),\n",
    "    (\"f\", (7, 8, 9)),\n",
    "    (\"f\", (7, 10, 11)),\n",
    "    (\"f\", (8, 9, 13)),\n",
    "    (\"f\", (8, 12, 14)),\n",
    "    (\"f\", (8, 15, 16)),\n",
    "]"
   ]
  },
  {
   "cell_type": "markdown",
   "metadata": {},
   "source": [
    "### summary of example data"
   ]
  },
  {
   "cell_type": "code",
   "execution_count": 3,
   "metadata": {},
   "outputs": [],
   "source": [
    "Nrooms = len(roomsizes)"
   ]
  },
  {
   "cell_type": "code",
   "execution_count": 4,
   "metadata": {},
   "outputs": [
    {
     "data": {
      "text/plain": [
       "(18, 7, 11)"
      ]
     },
     "execution_count": 4,
     "metadata": {},
     "output_type": "execute_result"
    }
   ],
   "source": [
    "Nparticipants = len(participants)\n",
    "\n",
    "Nmale = sum((1 for p in participants if p[0] == \"m\"))\n",
    "Nfemale = sum((1 for p in participants if p[0] == \"f\"))\n",
    "\n",
    "Nparticipants, Nmale, Nfemale"
   ]
  },
  {
   "cell_type": "markdown",
   "metadata": {},
   "source": [
    "### Sanity checks"
   ]
  },
  {
   "cell_type": "markdown",
   "metadata": {},
   "source": [
    "The number of available beds is at least equal to the number of participants"
   ]
  },
  {
   "cell_type": "code",
   "execution_count": 5,
   "metadata": {},
   "outputs": [],
   "source": [
    "assert Nparticipants <= sum(roomsizes)"
   ]
  },
  {
   "cell_type": "markdown",
   "metadata": {},
   "source": [
    "Every participant didn't choose themselves as a buddy, nor someone of the opposite sex:"
   ]
  },
  {
   "cell_type": "code",
   "execution_count": 6,
   "metadata": {},
   "outputs": [],
   "source": [
    "for ip, p in enumerate(participants):\n",
    "    gender = p[0]\n",
    "    buddies = p[1]\n",
    "    assert not ip in buddies, \"Participant %d has themselves as buddy\" % ip\n",
    "    for ib in buddies:\n",
    "        assert participants[ib][0] == gender, \"Buddy %d of participant %d has opposite sex\" % (ib, ip)"
   ]
  },
  {
   "cell_type": "markdown",
   "metadata": {},
   "source": [
    "---"
   ]
  },
  {
   "cell_type": "markdown",
   "metadata": {},
   "source": [
    "## Setup Z3 variables"
   ]
  },
  {
   "cell_type": "markdown",
   "metadata": {},
   "source": [
    "These \"Int\" variables will hold the (0-based) room index for each participant"
   ]
  },
  {
   "cell_type": "code",
   "execution_count": 7,
   "metadata": {},
   "outputs": [],
   "source": [
    "z3participants = [Int(\"participant_%d\" % ip) for ip in range(Nparticipants)]"
   ]
  },
  {
   "cell_type": "markdown",
   "metadata": {},
   "source": [
    "---"
   ]
  },
  {
   "cell_type": "markdown",
   "metadata": {},
   "source": [
    "## Define constraints"
   ]
  },
  {
   "cell_type": "markdown",
   "metadata": {},
   "source": [
    "### Constraint: each participant is assigned a valid room"
   ]
  },
  {
   "cell_type": "code",
   "execution_count": 8,
   "metadata": {},
   "outputs": [],
   "source": [
    "inroom_c = [\n",
    "    And(\n",
    "        p >= 0,\n",
    "        p < Nrooms,\n",
    "    )\n",
    "    for p in z3participants\n",
    "]"
   ]
  },
  {
   "cell_type": "markdown",
   "metadata": {},
   "source": [
    "### Constraint: the number of participants per room does not exceed the capacity of the room"
   ]
  },
  {
   "cell_type": "code",
   "execution_count": 9,
   "metadata": {},
   "outputs": [],
   "source": [
    "roomsize_c = [\n",
    "    Sum([If(p == i, 1, 0) for p in z3participants]) <= roomsizes[i]\n",
    "    for i in range(Nrooms)\n",
    "]"
   ]
  },
  {
   "cell_type": "markdown",
   "metadata": {},
   "source": [
    "### Constraint: participants per room are either all female or all male\n",
    "\n",
    "or: no equal room number for all of the possible pairs of male:female participants"
   ]
  },
  {
   "cell_type": "code",
   "execution_count": 10,
   "metadata": {},
   "outputs": [],
   "source": [
    "gender_c = [\n",
    "    z3participants[ip_male] != z3participants[ip_female]\n",
    "    for ip_male in (ip for (ip, p) in enumerate(participants) if p[0] == \"m\")\n",
    "    for ip_female in (ip for (ip, p) in enumerate(participants) if p[0] == \"f\")\n",
    "]"
   ]
  },
  {
   "cell_type": "markdown",
   "metadata": {},
   "source": [
    "### Constraint: each participant is assigned to a room where at least 1 of their chosen participants is also assigned to\n",
    "\n",
    "ie the \"buddy\" constraint"
   ]
  },
  {
   "cell_type": "code",
   "execution_count": 11,
   "metadata": {},
   "outputs": [],
   "source": [
    "buddy_c = [\n",
    "    Sum([\n",
    "        If(z3participants[ip] == z3participants[ibuddy], 1, 0)\n",
    "        for ibuddy in participants[ip][1]\n",
    "    ]) >= 1\n",
    "    for ip in range(Nparticipants)\n",
    "]"
   ]
  },
  {
   "cell_type": "markdown",
   "metadata": {},
   "source": [
    "---"
   ]
  },
  {
   "cell_type": "markdown",
   "metadata": {},
   "source": [
    "## Solve"
   ]
  },
  {
   "cell_type": "code",
   "execution_count": 12,
   "metadata": {},
   "outputs": [],
   "source": [
    "solver = Solver()\n",
    "solver.add(inroom_c)\n",
    "solver.add(roomsize_c)\n",
    "solver.add(gender_c)\n",
    "solver.add(buddy_c)"
   ]
  },
  {
   "cell_type": "code",
   "execution_count": 13,
   "metadata": {},
   "outputs": [
    {
     "data": {
      "text/plain": [
       "sat"
      ]
     },
     "execution_count": 13,
     "metadata": {},
     "output_type": "execute_result"
    }
   ],
   "source": [
    "solver.check()"
   ]
  },
  {
   "cell_type": "code",
   "execution_count": 14,
   "metadata": {},
   "outputs": [],
   "source": [
    "mdl = solver.model()"
   ]
  },
  {
   "cell_type": "code",
   "execution_count": 15,
   "metadata": {},
   "outputs": [
    {
     "data": {
      "text/plain": [
       "[(0, ('m', (1, 2, 3)), 1),\n",
       " (1, ('m', (0, 4, 5)), 1),\n",
       " (2, ('m', (0, 4, 5)), 1),\n",
       " (3, ('m', (1, 2, 4)), 1),\n",
       " (4, ('m', (0, 1, 2)), 1),\n",
       " (5, ('m', (0, 1, 2)), 1),\n",
       " (6, ('m', (0, 1, 2)), 1),\n",
       " (7, ('f', (8, 9, 10)), 2),\n",
       " (8, ('f', (7, 9, 10)), 2),\n",
       " (9, ('f', (7, 8, 13)), 0),\n",
       " (10, ('f', (7, 8, 9)), 2),\n",
       " (11, ('f', (7, 8, 9)), 2),\n",
       " (12, ('f', (7, 8, 9)), 0),\n",
       " (13, ('f', (7, 8, 9)), 0),\n",
       " (14, ('f', (7, 10, 11)), 2),\n",
       " (15, ('f', (8, 9, 13)), 2),\n",
       " (16, ('f', (8, 12, 14)), 0),\n",
       " (17, ('f', (8, 15, 16)), 2)]"
      ]
     },
     "execution_count": 15,
     "metadata": {},
     "output_type": "execute_result"
    }
   ],
   "source": [
    "list(zip(range(Nparticipants), participants, [mdl.evaluate(p) for p in z3participants]))"
   ]
  },
  {
   "cell_type": "markdown",
   "metadata": {},
   "source": [
    "*All males go to room 1*"
   ]
  },
  {
   "cell_type": "markdown",
   "metadata": {},
   "source": [
    "*4 females go to room 0, the others to room 2*"
   ]
  },
  {
   "cell_type": "markdown",
   "metadata": {},
   "source": [
    "---"
   ]
  }
 ],
 "metadata": {
  "kernelspec": {
   "display_name": "Python 3",
   "language": "python",
   "name": "python3"
  },
  "language_info": {
   "codemirror_mode": {
    "name": "ipython",
    "version": 3
   },
   "file_extension": ".py",
   "mimetype": "text/x-python",
   "name": "python",
   "nbconvert_exporter": "python",
   "pygments_lexer": "ipython3",
   "version": "3.5.2"
  }
 },
 "nbformat": 4,
 "nbformat_minor": 2
}
